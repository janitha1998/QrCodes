{
 "cells": [
  {
   "attachments": {},
   "cell_type": "markdown",
   "metadata": {},
   "source": [
    "# Create QR code"
   ]
  },
  {
   "cell_type": "code",
   "execution_count": 3,
   "metadata": {},
   "outputs": [],
   "source": [
    "import qrcode\n",
    "img = qrcode.make('Some data here')\n",
    "type(img)  # qrcode.image.pil.PilImage\n",
    "img.save(\"qrcode1.png\")"
   ]
  },
  {
   "attachments": {},
   "cell_type": "markdown",
   "metadata": {},
   "source": [
    "# Styling"
   ]
  },
  {
   "cell_type": "code",
   "execution_count": 23,
   "metadata": {},
   "outputs": [
    {
     "data": {
      "image/png": "[encoded data removed]",
      "text/plain": [
       "<qrcode.image.pil.PilImage at 0x7efc15790790>"
      ]
     },
     "execution_count": 23,
     "metadata": {},
     "output_type": "execute_result"
    }
   ],
   "source": [
    "import qrcode\n",
    "qr = qrcode.QRCode(\n",
    "    version=1, #qr code size: 1-40 where 1 is the smallest\n",
    "    error_correction=qrcode.constants.ERROR_CORRECT_H, #error correction: L,M,Q,H where H is the most randomised\n",
    "    box_size=10, #how many pixels each box is\n",
    "    border=4, #how many boxes wide the border is: minimum 4\n",
    ")\n",
    "qr.add_data('Some data')\n",
    "qr.make(fit=True)\n",
    "\n",
    "img = qr.make_image(fill_color=\"white\", back_color=\"black\") #can be RGB color tuples\n",
    "img"
   ]
  },
  {
   "attachments": {},
   "cell_type": "markdown",
   "metadata": {},
   "source": [
    "# Styling the eyes"
   ]
  },
  {
   "cell_type": "code",
   "execution_count": 43,
   "metadata": {},
   "outputs": [],
   "source": [
    "import PIL\n",
    "from PIL import Image, ImageDraw\n",
    "\n",
    "def style_inner_eyes(img):\n",
    "  img_size = img.size[0]\n",
    "  eye_size = 70 #default\n",
    "  quiet_zone = 40 #default\n",
    "  mask = Image.new('L', img.size, 0)\n",
    "  draw = ImageDraw.Draw(mask)\n",
    "  draw.rectangle((60, 60, 90, 90), fill=255) #top left eye\n",
    "  draw.rectangle((img_size-90, 60, img_size-60, 90), fill=255) #top right eye\n",
    "  draw.rectangle((60, img_size-90, 90, img_size-60), fill=255) #bottom left eye\n",
    "  return mask\n",
    "\n",
    "def style_outer_eyes(img):\n",
    "  img_size = img.size[0]\n",
    "  eye_size = 70 #default\n",
    "  quiet_zone = 40 #default\n",
    "  mask = Image.new('L', img.size, 0)\n",
    "  draw = ImageDraw.Draw(mask)\n",
    "  draw.rectangle((40, 40, 110, 110), fill=255) #top left eye\n",
    "  draw.rectangle((img_size-110, 40, img_size-40, 110), fill=255) #top right eye\n",
    "  draw.rectangle((40, img_size-110, 110, img_size-40), fill=255) #bottom left eye\n",
    "  draw.rectangle((60, 60, 90, 90), fill=0) #top left eye\n",
    "  draw.rectangle((img_size-90, 60, img_size-60, 90), fill=0) #top right eye\n",
    "  draw.rectangle((60, img_size-90, 90, img_size-60), fill=0) #bottom left eye  \n",
    "  return mask  "
   ]
  },
  {
   "cell_type": "code",
   "execution_count": 78,
   "metadata": {},
   "outputs": [],
   "source": [
    "import qrcode\n",
    "import PIL\n",
    "from qrcode.image.styledpil import StyledPilImage\n",
    "from qrcode.image.styles.moduledrawers import RoundedModuleDrawer\n",
    "from qrcode.image.styles.moduledrawers import VerticalBarsDrawer\n",
    "\n",
    "from  qrcode.image.styles.colormasks import SolidFillColorMask\n",
    "from PIL import Image, ImageDraw\n",
    "\n",
    "if not hasattr(PIL.Image, 'Resampling'):\n",
    "  PIL.Image.Resampling = PIL.Image\n",
    "# Now PIL.Image.Resampling.BICUBIC is always recognized.\n",
    "\n",
    "\n",
    "qr = qrcode.QRCode(error_correction=qrcode.constants.ERROR_CORRECT_H)\n",
    "\n",
    "qr.add_data('http://www.amazon.com')\n",
    "\n",
    "qr_inner_eyes_img = qr.make_image(image_factory=StyledPilImage,\n",
    "                            eye_drawer=RoundedModuleDrawer(radius_ratio=1.2),\n",
    "                            color_mask=SolidFillColorMask(back_color=(255, 255, 255), front_color=(255, 153, 0)))\n",
    "\n",
    "qr_outer_eyes_img = qr.make_image(image_factory=StyledPilImage,\n",
    "                            eye_drawer=VerticalBarsDrawer(),\n",
    "                            color_mask=SolidFillColorMask(back_color=(255, 255, 255), front_color=(0, 0, 0)))                            \n",
    "\n",
    "qr_img = qr.make_image(image_factory=StyledPilImage,\n",
    "                       module_drawer=RoundedModuleDrawer(),\n",
    "                       color_mask=SolidFillColorMask(front_color=(0, 0, 0)),\n",
    "                       embeded_image_path=\"my-rounded-logo.png\")\n",
    "\n",
    "inner_eye_mask = style_inner_eyes(qr_img)\n",
    "outer_eye_mask = style_outer_eyes(qr_img)\n",
    "intermediate_img = Image.composite(qr_inner_eyes_img, qr_img, inner_eye_mask)\n",
    "final_image = Image.composite(qr_outer_eyes_img, intermediate_img, outer_eye_mask)\n",
    "final_image.save('my-qrcode.png')"
   ]
  },
  {
   "attachments": {},
   "cell_type": "markdown",
   "metadata": {},
   "source": [
    "# Adding logos"
   ]
  },
  {
   "cell_type": "code",
   "execution_count": 53,
   "metadata": {},
   "outputs": [],
   "source": [
    "import PIL\n",
    "from PIL import Image, ImageDraw\n",
    "\n",
    "def add_corners(im, rad):\n",
    "    circle = Image.new('L', (rad * 2, rad * 2), 0)\n",
    "    draw = ImageDraw.Draw(circle)\n",
    "    draw.ellipse((0, 0, rad * 2 - 1, rad * 2 - 1), fill=255)\n",
    "    alpha = Image.new('L', im.size, 255)\n",
    "    w, h = im.size\n",
    "    alpha.paste(circle.crop((0, 0, rad, rad)), (0, 0))\n",
    "    alpha.paste(circle.crop((0, rad, rad, rad * 2)), (0, h - rad))\n",
    "    alpha.paste(circle.crop((rad, 0, rad * 2, rad)), (w - rad, 0))\n",
    "    alpha.paste(circle.crop((rad, rad, rad * 2, rad * 2)), (w - rad, h - rad))\n",
    "    im.putalpha(alpha)\n",
    "    return im\n",
    "\n",
    "im = Image.open('my-logo.png')\n",
    "im = add_corners(im, 100)\n",
    "im.save('my-rounded-logo.png')"
   ]
  },
  {
   "cell_type": "code",
   "execution_count": null,
   "metadata": {},
   "outputs": [],
   "source": []
  }
 ],
 "metadata": {
  "kernelspec": {
   "display_name": "venv",
   "language": "python",
   "name": "python3"
  },
  "language_info": {
   "codemirror_mode": {
    "name": "ipython",
    "version": 3
   },
   "file_extension": ".py",
   "mimetype": "text/x-python",
   "name": "python",
   "nbconvert_exporter": "python",
   "pygments_lexer": "ipython3",
   "version": "3.8.10 (default, Jun 22 2022, 20:18:18) \n[GCC 9.4.0]"
  },
  "orig_nbformat": 4,
  "vscode": {
   "interpreter": {
    "hash": "8d7cbaa6b87b49f8d9b0740178a9806e1405b0432ef206b33ee165a14a0246df"
   }
  }
 },
 "nbformat": 4,
 "nbformat_minor": 2
}
